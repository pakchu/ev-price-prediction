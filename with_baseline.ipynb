{
 "cells": [
  {
   "cell_type": "code",
   "execution_count": 51,
   "metadata": {},
   "outputs": [],
   "source": [
    "import pandas as pd\n",
    "import numpy as np\n",
    "import seaborn as sns\n",
    "import matplotlib.pyplot as plt\n",
    "import warnings\n",
    "\n",
    "from sklearn.model_selection import train_test_split\n",
    "from sklearn.preprocessing import StandardScaler\n",
    "from sklearn.metrics import root_mean_squared_error\n",
    "from sklearn.ensemble import RandomForestRegressor\n",
    "from sklearn.neighbors import KNeighborsRegressor\n",
    "from sklearn.svm import SVR\n",
    "from sklearn.linear_model import Ridge\n",
    "from catboost import CatBoostRegressor\n",
    "from xgboost import XGBRegressor\n",
    "from lightgbm import LGBMRegressor\n",
    "import optuna\n",
    "import lightgbm as lgb\n",
    "import xgboost as xgb\n",
    "import catboost as cb\n",
    "from optuna.trial import Trial\n",
    "from sklearn.model_selection import KFold\n",
    "import time, pickle, os\n",
    "\n",
    "\n",
    "warnings.filterwarnings('ignore')\n",
    "pd.set_option('display.max_columns', None)\n",
    "plt.rcParams['axes.unicode_minus'] = False\n",
    "plt.rcParams['figure.figsize'] = (21, 9)\n",
    "plt.rcParams['figure.dpi'] = 300\n",
    "plt.style.use('dark_background')"
   ]
  },
  {
   "cell_type": "code",
   "execution_count": 52,
   "metadata": {},
   "outputs": [],
   "source": [
    "COLUMNS=[\n",
    "    'manufacturer',\n",
    "    'model',\n",
    "    'vehicle_condition',\n",
    "    'battery_capacity',\n",
    "    'drivetrain',\n",
    "    'mileage',\n",
    "    'warranty_period',\n",
    "    'accident_history',\n",
    "    'year_of_manufacture',\n",
    "]\n",
    "SEED = 42"
   ]
  },
  {
   "cell_type": "code",
   "execution_count": 53,
   "metadata": {},
   "outputs": [],
   "source": [
    "train = pd.read_csv('./data/train.csv')\n",
    "train = train.drop(columns=['ID'])\n",
    "train.columns = COLUMNS + ['y']\n",
    "train.manufacturer = train.manufacturer.str.replace('사', '_corp')\n",
    "\n",
    "test = pd.read_csv('./data/test.csv')\n",
    "test = test.drop(columns=['ID'])\n",
    "test.columns = COLUMNS\n",
    "test_X = test\n",
    "test_X.manufacturer = test_X.manufacturer.str.replace('사', '_corp')"
   ]
  },
  {
   "cell_type": "code",
   "execution_count": 54,
   "metadata": {},
   "outputs": [],
   "source": [
    "train['battery_capacity'] = train['battery_capacity'].fillna(0)\n",
    "test['battery_capacity'] = test['battery_capacity'].fillna(0)"
   ]
  },
  {
   "cell_type": "code",
   "execution_count": 55,
   "metadata": {},
   "outputs": [],
   "source": [
    "from sklearn.preprocessing import StandardScaler\n",
    "x_scaler = StandardScaler()\n",
    "# y_scaler = StandardScaler()\n",
    "\n",
    "# select numerical columns\n",
    "x_scaler.fit(train[train.select_dtypes(include='number').columns.drop('y')])\n",
    "train.loc[:, train.select_dtypes(include='number').columns.drop('y')] = x_scaler.transform(train[train.select_dtypes(include='number').columns.drop('y')])\n",
    "# train.loc[:, 'y'] = y_scaler.fit_transform(train[['y']])\n",
    "test.loc[:, test.select_dtypes(include='number').columns] = x_scaler.transform(test[test.select_dtypes(include='number').columns])"
   ]
  },
  {
   "cell_type": "code",
   "execution_count": 56,
   "metadata": {},
   "outputs": [],
   "source": [
    "combined = pd.concat([train,test], axis=0, ignore_index=True)\n",
    "FEATURES = combined.columns.drop(\"y\")\n",
    "CATS = []\n",
    "HIGH_CARDINALITY = []"
   ]
  },
  {
   "cell_type": "code",
   "execution_count": 57,
   "metadata": {},
   "outputs": [
    {
     "name": "stdout",
     "output_type": "stream",
     "text": [
      "THE 9 BASIC FEATURES ARE:\n",
      "manufacturer (categorical) with 7 unique values\n",
      "model (categorical) with 21 unique values\n",
      "vehicle_condition (categorical) with 3 unique values\n",
      "battery_capacity (numerical) with 203 unique values\n",
      "drivetrain (categorical) with 3 unique values\n",
      "mileage (numerical) with 7633 unique values\n",
      "warranty_period (numerical) with 11 unique values\n",
      "accident_history (categorical) with 2 unique values\n",
      "year_of_manufacture (numerical) with 3 unique values\n"
     ]
    }
   ],
   "source": [
    "print(f\"THE {len(FEATURES)} BASIC FEATURES ARE:\")\n",
    "for c in FEATURES:\n",
    "    ftype = \"numerical\"\n",
    "    if combined[c].dtype==\"object\":\n",
    "        CATS.append(c)\n",
    "        combined[c] = combined[c].fillna(\"NAN\")\n",
    "        combined[c],_ = combined[c].factorize()\n",
    "        combined[c] -= combined[c].min()\n",
    "        ftype = \"categorical\"\n",
    "    if combined[c].dtype==\"int64\":\n",
    "        combined[c] = combined[c]\n",
    "    elif combined[c].dtype==\"float64\":\n",
    "        combined[c] = combined[c]\n",
    "        \n",
    "    n = combined[c].nunique()\n",
    "    print(f\"{c} ({ftype}) with {n} unique values\")\n",
    "    if n>=25: HIGH_CARDINALITY.append(c)\n",
    "    \n",
    "train = combined.iloc[:len(train)].copy()\n",
    "test = combined.iloc[len(train):].reset_index(drop=True).copy()"
   ]
  },
  {
   "cell_type": "code",
   "execution_count": 62,
   "metadata": {},
   "outputs": [],
   "source": [
    "base_line_model = SVR(C=10, epsilon=0.1, kernel='rbf', gamma='scale')\n",
    "\n",
    "kf = KFold(n_splits=5, shuffle=True, random_state=SEED)\n",
    "oof = np.zeros(len(train))\n",
    "predictions = np.zeros(len(test))\n",
    "\n",
    "for tr_idx, va_idx in kf.split(train):\n",
    "    tr_x, va_x = train[FEATURES].iloc[tr_idx], train[FEATURES].iloc[va_idx]\n",
    "    tr_y, va_y = train['y'].iloc[tr_idx], train['y'].iloc[va_idx]\n",
    "    \n",
    "    tr_x = pd.get_dummies(tr_x, columns=CATS)\n",
    "    va_x = pd.get_dummies(va_x, columns=CATS)\n",
    "    \n",
    "    base_line_model.fit(tr_x, tr_y)\n",
    "    oof[va_idx] = base_line_model.predict(va_x)\n",
    "    predictions += base_line_model.predict(pd.get_dummies(test.drop(columns=['y']), columns=CATS))/kf.n_splits\n"
   ]
  },
  {
   "cell_type": "code",
   "execution_count": 63,
   "metadata": {},
   "outputs": [
    {
     "data": {
      "text/plain": [
       "130.67418311977372"
      ]
     },
     "execution_count": 63,
     "metadata": {},
     "output_type": "execute_result"
    }
   ],
   "source": [
    "predictions[0]"
   ]
  },
  {
   "cell_type": "code",
   "execution_count": 59,
   "metadata": {},
   "outputs": [],
   "source": [
    "submission = pd.read_csv('./data/sample_submission.csv')\n",
    "submission['가격(백만원)'] = predictions\n",
    "submission.to_csv('submission.csv', index=False)"
   ]
  },
  {
   "cell_type": "code",
   "execution_count": 45,
   "metadata": {},
   "outputs": [],
   "source": [
    "train['base_line'] = oof\n",
    "test['base_line'] = predictions"
   ]
  },
  {
   "cell_type": "code",
   "execution_count": 46,
   "metadata": {},
   "outputs": [
    {
     "data": {
      "text/plain": [
       "['manufacturer',\n",
       " 'model',\n",
       " 'vehicle_condition',\n",
       " 'drivetrain',\n",
       " 'accident_history']"
      ]
     },
     "execution_count": 46,
     "metadata": {},
     "output_type": "execute_result"
    }
   ],
   "source": [
    "CATS"
   ]
  },
  {
   "cell_type": "code",
   "execution_count": 47,
   "metadata": {},
   "outputs": [],
   "source": [
    "train = pd.concat([pd.get_dummies(train.drop(columns=['y']), columns=CATS), train['y']], axis=1)\n",
    "test = pd.concat([pd.get_dummies(test.drop(columns=['y']), columns=CATS), test['y']], axis=1)"
   ]
  },
  {
   "cell_type": "code",
   "execution_count": 48,
   "metadata": {},
   "outputs": [
    {
     "name": "stdout",
     "output_type": "stream",
     "text": [
      "1.502569520233469\n"
     ]
    }
   ],
   "source": [
    "FOLD = 20\n",
    "kf = KFold(n_splits=FOLD, shuffle=True, random_state=SEED)\n",
    "oof = np.zeros(len(train))\n",
    "test_preds = np.zeros(len(test))\n",
    "all_score = 0\n",
    "for trn_idx, val_idx in kf.split(train):\n",
    "    _train = train.iloc[trn_idx].copy()\n",
    "    _valid = train.iloc[val_idx].copy()\n",
    "\n",
    "    model = LGBMRegressor(verbose=0)\n",
    "    model.fit(_train.drop(columns=['y']), _train.y, \n",
    "              eval_set=(_valid.drop(columns=['y']), _valid.y)\n",
    "              )\n",
    "    oof[val_idx] = model.predict(_valid.drop(columns=['y']))\n",
    "    test_preds += (model.predict(test[_train.drop(columns=['y']).columns]))\n",
    "    score = root_mean_squared_error((_valid.y), (model.predict(_valid.drop(columns=['y']))))\n",
    "    all_score += score\n",
    "test_preds /= FOLD\n",
    "print(all_score / FOLD)"
   ]
  },
  {
   "cell_type": "code",
   "execution_count": 20,
   "metadata": {},
   "outputs": [
    {
     "name": "stdout",
     "output_type": "stream",
     "text": [
      "1.3496811992980629\n"
     ]
    }
   ],
   "source": [
    "FOLD = 20\n",
    "kf = KFold(n_splits=FOLD, shuffle=True, random_state=SEED)\n",
    "oof = np.zeros(len(train))\n",
    "test_preds = np.zeros(len(test))\n",
    "all_score = 0\n",
    "for trn_idx, val_idx in kf.split(train):\n",
    "    _train = train.iloc[trn_idx].copy()\n",
    "    _valid = train.iloc[val_idx].copy()\n",
    "\n",
    "    model = LGBMRegressor(verbose=0)\n",
    "    model.fit(_train.drop(columns=['y']), _train.y, \n",
    "            #   eval_set=(_valid.drop(columns=['y']), _valid.y)\n",
    "              )\n",
    "    oof[val_idx] = model.predict(_valid.drop(columns=['y']))\n",
    "    test_preds += (model.predict(test[_train.drop(columns=['y']).columns]))\n",
    "    score = root_mean_squared_error((_valid.y), (model.predict(_valid.drop(columns=['y']))))\n",
    "    all_score += score\n",
    "test_preds /= FOLD\n",
    "print(all_score / FOLD)"
   ]
  },
  {
   "cell_type": "code",
   "execution_count": 10,
   "metadata": {},
   "outputs": [],
   "source": [
    "FOLD=100"
   ]
  },
  {
   "cell_type": "code",
   "execution_count": 11,
   "metadata": {},
   "outputs": [],
   "source": [
    "def objective(trial: optuna.Trial):\n",
    "    kf = KFold(n_splits=FOLD, shuffle=True, random_state=SEED)\n",
    "    params = {\n",
    "        'n_estimators': trial.suggest_int('n_estimators', 50, 500),\n",
    "        'learning_rate': trial.suggest_uniform('learning_rate', 0.01, 0.3),\n",
    "        'max_depth': trial.suggest_int('max_depth', 3, 8),\n",
    "        'num_leaves': trial.suggest_int('num_leaves', 5, 100),\n",
    "        'min_child_samples': trial.suggest_int('min_child_samples', 5, 100),\n",
    "        'subsample': trial.suggest_uniform('subsample', 0.5, 1.0),\n",
    "        'colsample_bytree': trial.suggest_uniform('colsample_bytree', 0.5, 1.0),\n",
    "        'reg_alpha': trial.suggest_loguniform('reg_alpha', 1e-3, 100.0),\n",
    "        'reg_lambda': trial.suggest_loguniform('reg_lambda', 1e-3, 100.0),\n",
    "        'random_state': SEED,\n",
    "        'n_jobs': -1, \n",
    "        'verbose': -1\n",
    "    }\n",
    "    \n",
    "    model = LGBMRegressor(**params)\n",
    "    oof = np.zeros(len(train))\n",
    "    for trn_idx, val_idx in kf.split(train):\n",
    "        _train = train.iloc[trn_idx].copy()\n",
    "        _valid = train.iloc[val_idx].copy()\n",
    "        model.fit(_train.drop(columns=['y']), _train.y)\n",
    "        oof[val_idx] = model.predict(_valid.drop(columns=['y']))\n",
    "    score = root_mean_squared_error(train.y, oof)\n",
    "    return score"
   ]
  },
  {
   "cell_type": "code",
   "execution_count": 12,
   "metadata": {},
   "outputs": [
    {
     "name": "stderr",
     "output_type": "stream",
     "text": [
      "[I 2025-01-27 18:54:24,700] A new study created in memory with name: no-name-ddc988b8-4ff8-4169-9801-5130ea4a4308\n",
      "[I 2025-01-27 18:54:30,616] Trial 0 finished with value: 1.749095458057816 and parameters: {'n_estimators': 267, 'learning_rate': 0.0706502958619026, 'max_depth': 3, 'num_leaves': 11, 'min_child_samples': 22, 'subsample': 0.9975924061205617, 'colsample_bytree': 0.9290193449590198, 'reg_alpha': 0.011351449032250382, 'reg_lambda': 1.1718414574044518}. Best is trial 0 with value: 1.749095458057816.\n",
      "[I 2025-01-27 18:54:37,003] Trial 1 finished with value: 1.3739115157873565 and parameters: {'n_estimators': 265, 'learning_rate': 0.24985941045825252, 'max_depth': 3, 'num_leaves': 89, 'min_child_samples': 54, 'subsample': 0.5700322416550678, 'colsample_bytree': 0.7978781393936755, 'reg_alpha': 10.400721175078193, 'reg_lambda': 0.12357732095894818}. Best is trial 1 with value: 1.3739115157873565.\n",
      "[I 2025-01-27 18:55:02,089] Trial 2 finished with value: 1.3933279114871513 and parameters: {'n_estimators': 457, 'learning_rate': 0.14533667920934387, 'max_depth': 8, 'num_leaves': 55, 'min_child_samples': 78, 'subsample': 0.8710789796385225, 'colsample_bytree': 0.6274594846212895, 'reg_alpha': 0.0011758093825723279, 'reg_lambda': 0.29468709714623026}. Best is trial 1 with value: 1.3739115157873565.\n",
      "[I 2025-01-27 18:55:05,849] Trial 3 finished with value: 2.0816453389940035 and parameters: {'n_estimators': 88, 'learning_rate': 0.15468014353329346, 'max_depth': 5, 'num_leaves': 42, 'min_child_samples': 18, 'subsample': 0.501090411998396, 'colsample_bytree': 0.514610491940822, 'reg_alpha': 0.0010958975207596665, 'reg_lambda': 61.85794341884379}. Best is trial 1 with value: 1.3739115157873565.\n",
      "[I 2025-01-27 18:55:10,099] Trial 4 finished with value: 1.4343555603128937 and parameters: {'n_estimators': 125, 'learning_rate': 0.22221602805212345, 'max_depth': 4, 'num_leaves': 29, 'min_child_samples': 45, 'subsample': 0.5004961320087205, 'colsample_bytree': 0.6647895498168557, 'reg_alpha': 0.21933217172248662, 'reg_lambda': 0.0015250953999278885}. Best is trial 1 with value: 1.3739115157873565.\n",
      "[I 2025-01-27 18:55:15,024] Trial 5 finished with value: 2.7445972739786955 and parameters: {'n_estimators': 222, 'learning_rate': 0.05282233982251667, 'max_depth': 3, 'num_leaves': 77, 'min_child_samples': 44, 'subsample': 0.8591567901429602, 'colsample_bytree': 0.9292130482278993, 'reg_alpha': 0.456560366786376, 'reg_lambda': 20.95590174803471}. Best is trial 1 with value: 1.3739115157873565.\n",
      "[I 2025-01-27 18:55:21,260] Trial 6 finished with value: 1.355062487513793 and parameters: {'n_estimators': 180, 'learning_rate': 0.17011100408744487, 'max_depth': 5, 'num_leaves': 14, 'min_child_samples': 12, 'subsample': 0.7884788548305863, 'colsample_bytree': 0.779306347837514, 'reg_alpha': 0.014217834592604617, 'reg_lambda': 0.1754121873771593}. Best is trial 6 with value: 1.355062487513793.\n",
      "[I 2025-01-27 18:55:25,390] Trial 7 finished with value: 16.57560088475195 and parameters: {'n_estimators': 78, 'learning_rate': 0.011530451186656705, 'max_depth': 5, 'num_leaves': 57, 'min_child_samples': 18, 'subsample': 0.5693236104050874, 'colsample_bytree': 0.8558842055456066, 'reg_alpha': 0.0550272985892291, 'reg_lambda': 0.16485819680318423}. Best is trial 6 with value: 1.355062487513793.\n",
      "[I 2025-01-27 18:55:30,386] Trial 8 finished with value: 1.8487774894760218 and parameters: {'n_estimators': 380, 'learning_rate': 0.2574391717609504, 'max_depth': 3, 'num_leaves': 39, 'min_child_samples': 50, 'subsample': 0.9096079929915193, 'colsample_bytree': 0.7293770962863644, 'reg_alpha': 96.3332182601567, 'reg_lambda': 0.00600423503707998}. Best is trial 6 with value: 1.355062487513793.\n",
      "[I 2025-01-27 18:55:56,940] Trial 9 finished with value: 1.569687248164767 and parameters: {'n_estimators': 467, 'learning_rate': 0.29920002862771033, 'max_depth': 8, 'num_leaves': 40, 'min_child_samples': 7, 'subsample': 0.9226336180894699, 'colsample_bytree': 0.8315863924008746, 'reg_alpha': 0.004917729416830083, 'reg_lambda': 0.001320551727097401}. Best is trial 6 with value: 1.355062487513793.\n",
      "[I 2025-01-27 18:56:01,402] Trial 10 finished with value: 1.9080199788421104 and parameters: {'n_estimators': 194, 'learning_rate': 0.11632185125704397, 'max_depth': 7, 'num_leaves': 5, 'min_child_samples': 94, 'subsample': 0.7354772608410857, 'colsample_bytree': 0.9967604046709572, 'reg_alpha': 2.0908114477974875, 'reg_lambda': 3.6592209649848955}. Best is trial 6 with value: 1.355062487513793.\n",
      "[I 2025-01-27 18:56:10,985] Trial 11 finished with value: 1.3885462973034672 and parameters: {'n_estimators': 316, 'learning_rate': 0.21204874637449853, 'max_depth': 6, 'num_leaves': 99, 'min_child_samples': 65, 'subsample': 0.7080320611215314, 'colsample_bytree': 0.7808714894406411, 'reg_alpha': 17.09011337584038, 'reg_lambda': 0.03389605741237957}. Best is trial 6 with value: 1.355062487513793.\n",
      "[I 2025-01-27 18:56:16,577] Trial 12 finished with value: 1.3582099135037524 and parameters: {'n_estimators': 171, 'learning_rate': 0.2094888756933574, 'max_depth': 4, 'num_leaves': 83, 'min_child_samples': 35, 'subsample': 0.6466024401921414, 'colsample_bytree': 0.783456730138645, 'reg_alpha': 4.782619718206502, 'reg_lambda': 0.05027681369395678}. Best is trial 6 with value: 1.355062487513793.\n",
      "[I 2025-01-27 18:56:24,627] Trial 13 finished with value: 1.4227810281249753 and parameters: {'n_estimators': 159, 'learning_rate': 0.19186342583412583, 'max_depth': 6, 'num_leaves': 74, 'min_child_samples': 32, 'subsample': 0.6712648327134975, 'colsample_bytree': 0.6897835923165382, 'reg_alpha': 0.05195343247535083, 'reg_lambda': 0.016866296637690337}. Best is trial 6 with value: 1.355062487513793.\n",
      "[I 2025-01-27 18:56:29,652] Trial 14 finished with value: 1.392989902456483 and parameters: {'n_estimators': 163, 'learning_rate': 0.1911059028066906, 'max_depth': 4, 'num_leaves': 21, 'min_child_samples': 5, 'subsample': 0.8031357332962066, 'colsample_bytree': 0.6020686038710092, 'reg_alpha': 1.9948707074298457, 'reg_lambda': 1.9179322439934996}. Best is trial 6 with value: 1.355062487513793.\n",
      "[I 2025-01-27 18:56:38,572] Trial 15 finished with value: 1.3637229114770044 and parameters: {'n_estimators': 334, 'learning_rate': 0.11305116233514884, 'max_depth': 4, 'num_leaves': 66, 'min_child_samples': 33, 'subsample': 0.6496363900298587, 'colsample_bytree': 0.7413528365553439, 'reg_alpha': 1.1514269788096834, 'reg_lambda': 0.04464506206342087}. Best is trial 6 with value: 1.355062487513793.\n",
      "[I 2025-01-27 18:56:46,515] Trial 16 finished with value: 1.3535922607917927 and parameters: {'n_estimators': 225, 'learning_rate': 0.17301887920655484, 'max_depth': 5, 'num_leaves': 88, 'min_child_samples': 33, 'subsample': 0.7822750108860808, 'colsample_bytree': 0.8937278275659006, 'reg_alpha': 0.0692003402801232, 'reg_lambda': 0.6064219669139871}. Best is trial 16 with value: 1.3535922607917927.\n",
      "[I 2025-01-27 18:56:54,728] Trial 17 finished with value: 1.3439397927152126 and parameters: {'n_estimators': 234, 'learning_rate': 0.11842579376676858, 'max_depth': 5, 'num_leaves': 99, 'min_child_samples': 25, 'subsample': 0.7957814141251861, 'colsample_bytree': 0.8867633356722793, 'reg_alpha': 0.03986043258338522, 'reg_lambda': 0.7279906177988068}. Best is trial 17 with value: 1.3439397927152126.\n",
      "[I 2025-01-27 18:57:04,827] Trial 18 finished with value: 1.3612334121483678 and parameters: {'n_estimators': 235, 'learning_rate': 0.11048662653490461, 'max_depth': 6, 'num_leaves': 98, 'min_child_samples': 63, 'subsample': 0.8056599153879133, 'colsample_bytree': 0.8912904997041753, 'reg_alpha': 0.1063205148927378, 'reg_lambda': 0.9105397270730551}. Best is trial 17 with value: 1.3439397927152126.\n",
      "[I 2025-01-27 18:57:24,174] Trial 19 finished with value: 1.3564112457548825 and parameters: {'n_estimators': 380, 'learning_rate': 0.07345311256098624, 'max_depth': 7, 'num_leaves': 88, 'min_child_samples': 25, 'subsample': 0.7523677057109175, 'colsample_bytree': 0.9520528068068146, 'reg_alpha': 0.028230680733425932, 'reg_lambda': 6.299607652510618}. Best is trial 17 with value: 1.3439397927152126.\n",
      "[I 2025-01-27 18:57:33,638] Trial 20 finished with value: 1.3492000713874077 and parameters: {'n_estimators': 315, 'learning_rate': 0.139059819259406, 'max_depth': 5, 'num_leaves': 69, 'min_child_samples': 38, 'subsample': 0.8499578953452158, 'colsample_bytree': 0.8613014525364003, 'reg_alpha': 0.34753767090722154, 'reg_lambda': 9.432035286186878}. Best is trial 17 with value: 1.3439397927152126.\n",
      "[I 2025-01-27 18:57:43,401] Trial 21 finished with value: 1.3478963726877298 and parameters: {'n_estimators': 326, 'learning_rate': 0.13476416886189546, 'max_depth': 5, 'num_leaves': 68, 'min_child_samples': 39, 'subsample': 0.8470404804746351, 'colsample_bytree': 0.8505539951307001, 'reg_alpha': 0.47071376529490894, 'reg_lambda': 14.99679640722814}. Best is trial 17 with value: 1.3439397927152126.\n",
      "[I 2025-01-27 18:57:53,644] Trial 22 finished with value: 1.3498655967972266 and parameters: {'n_estimators': 318, 'learning_rate': 0.1319858970236048, 'max_depth': 5, 'num_leaves': 67, 'min_child_samples': 44, 'subsample': 0.8487650605489815, 'colsample_bytree': 0.8400447103212008, 'reg_alpha': 0.5868889276751845, 'reg_lambda': 14.584891012003421}. Best is trial 17 with value: 1.3439397927152126.\n",
      "[I 2025-01-27 18:58:06,805] Trial 23 finished with value: 1.3609026890905422 and parameters: {'n_estimators': 390, 'learning_rate': 0.09448114049077522, 'max_depth': 6, 'num_leaves': 70, 'min_child_samples': 59, 'subsample': 0.9516796484516435, 'colsample_bytree': 0.8778010037887105, 'reg_alpha': 0.2214668537047748, 'reg_lambda': 86.08973580503172}. Best is trial 17 with value: 1.3439397927152126.\n",
      "[I 2025-01-27 18:58:20,122] Trial 24 finished with value: 1.351318583472845 and parameters: {'n_estimators': 295, 'learning_rate': 0.14021975553909802, 'max_depth': 7, 'num_leaves': 61, 'min_child_samples': 40, 'subsample': 0.8323952546891179, 'colsample_bytree': 0.9991210574850901, 'reg_alpha': 0.19228940888250237, 'reg_lambda': 12.990944334406908}. Best is trial 17 with value: 1.3439397927152126.\n",
      "[I 2025-01-27 18:58:29,870] Trial 25 finished with value: 1.3693133667724167 and parameters: {'n_estimators': 413, 'learning_rate': 0.08539690205303117, 'max_depth': 4, 'num_leaves': 77, 'min_child_samples': 27, 'subsample': 0.8922930361081571, 'colsample_bytree': 0.8171616003142386, 'reg_alpha': 0.7375656592714582, 'reg_lambda': 32.14301703012283}. Best is trial 17 with value: 1.3439397927152126.\n",
      "[I 2025-01-27 18:58:39,546] Trial 26 finished with value: 1.521226500867677 and parameters: {'n_estimators': 346, 'learning_rate': 0.04211007172872966, 'max_depth': 5, 'num_leaves': 51, 'min_child_samples': 77, 'subsample': 0.933768944481365, 'colsample_bytree': 0.9314111070610389, 'reg_alpha': 0.004762207595426021, 'reg_lambda': 5.109472601477653}. Best is trial 17 with value: 1.3439397927152126.\n",
      "[I 2025-01-27 18:58:49,938] Trial 27 finished with value: 1.334876575935791 and parameters: {'n_estimators': 287, 'learning_rate': 0.1227047898956043, 'max_depth': 6, 'num_leaves': 48, 'min_child_samples': 52, 'subsample': 0.977801968846171, 'colsample_bytree': 0.8679243554521052, 'reg_alpha': 0.12243143591814588, 'reg_lambda': 2.5660014471233006}. Best is trial 27 with value: 1.334876575935791.\n",
      "[I 2025-01-27 18:58:59,332] Trial 28 finished with value: 1.3540958729808492 and parameters: {'n_estimators': 273, 'learning_rate': 0.10807327125937022, 'max_depth': 6, 'num_leaves': 47, 'min_child_samples': 71, 'subsample': 0.9934208938833059, 'colsample_bytree': 0.9611340191915112, 'reg_alpha': 0.024629672742991382, 'reg_lambda': 2.9128649412699987}. Best is trial 27 with value: 1.334876575935791.\n",
      "[I 2025-01-27 18:59:09,860] Trial 29 finished with value: 1.3461184873631002 and parameters: {'n_estimators': 250, 'learning_rate': 0.16893412787199122, 'max_depth': 7, 'num_leaves': 29, 'min_child_samples': 53, 'subsample': 0.9804716418668212, 'colsample_bytree': 0.9061383943985168, 'reg_alpha': 0.0061544036274195895, 'reg_lambda': 1.745932863162218}. Best is trial 27 with value: 1.334876575935791.\n",
      "[I 2025-01-27 18:59:20,247] Trial 30 finished with value: 1.3540690402723248 and parameters: {'n_estimators': 252, 'learning_rate': 0.16548552989105442, 'max_depth': 7, 'num_leaves': 34, 'min_child_samples': 92, 'subsample': 0.987925741346618, 'colsample_bytree': 0.8962386133135664, 'reg_alpha': 0.0043658634966608585, 'reg_lambda': 1.2335818567524144}. Best is trial 27 with value: 1.334876575935791.\n",
      "[I 2025-01-27 18:59:36,647] Trial 31 finished with value: 1.3393038853159516 and parameters: {'n_estimators': 283, 'learning_rate': 0.09436698043190843, 'max_depth': 7, 'num_leaves': 27, 'min_child_samples': 53, 'subsample': 0.9650104911691709, 'colsample_bytree': 0.9271107496864006, 'reg_alpha': 0.01170105679690335, 'reg_lambda': 1.781861057626584}. Best is trial 27 with value: 1.334876575935791.\n",
      "[I 2025-01-27 18:59:49,213] Trial 32 finished with value: 1.3443257183197888 and parameters: {'n_estimators': 278, 'learning_rate': 0.05549647825988757, 'max_depth': 7, 'num_leaves': 25, 'min_child_samples': 54, 'subsample': 0.9637641483462273, 'colsample_bytree': 0.9623508729776142, 'reg_alpha': 0.008694312368021912, 'reg_lambda': 0.45020831404750183}. Best is trial 27 with value: 1.334876575935791.\n",
      "[I 2025-01-27 19:00:01,224] Trial 33 finished with value: 1.3478812597159282 and parameters: {'n_estimators': 295, 'learning_rate': 0.05742027630163468, 'max_depth': 8, 'num_leaves': 18, 'min_child_samples': 58, 'subsample': 0.9534151024705656, 'colsample_bytree': 0.9732064668970466, 'reg_alpha': 0.010909408094173775, 'reg_lambda': 0.4879116220994354}. Best is trial 27 with value: 1.334876575935791.\n",
      "[I 2025-01-27 19:00:10,838] Trial 34 finished with value: 2.0605432424386576 and parameters: {'n_estimators': 204, 'learning_rate': 0.023153867250597177, 'max_depth': 7, 'num_leaves': 22, 'min_child_samples': 84, 'subsample': 0.8925631670830066, 'colsample_bytree': 0.9310336049740715, 'reg_alpha': 0.0016963774264646776, 'reg_lambda': 0.651348186740835}. Best is trial 27 with value: 1.334876575935791.\n",
      "[I 2025-01-27 19:00:21,745] Trial 35 finished with value: 1.343604045616879 and parameters: {'n_estimators': 275, 'learning_rate': 0.08775364923843708, 'max_depth': 6, 'num_leaves': 26, 'min_child_samples': 49, 'subsample': 0.9535772528080338, 'colsample_bytree': 0.9678151193634991, 'reg_alpha': 0.02380332685467702, 'reg_lambda': 0.3057561918868189}. Best is trial 27 with value: 1.334876575935791.\n",
      "[I 2025-01-27 19:00:35,108] Trial 36 finished with value: 1.3485029831744395 and parameters: {'n_estimators': 357, 'learning_rate': 0.0981853107985593, 'max_depth': 6, 'num_leaves': 46, 'min_child_samples': 49, 'subsample': 0.8928801991128393, 'colsample_bytree': 0.9172317618334566, 'reg_alpha': 0.025356662326091108, 'reg_lambda': 0.1182275862001915}. Best is trial 27 with value: 1.334876575935791.\n",
      "[I 2025-01-27 19:00:39,578] Trial 37 finished with value: 1.7914620720347378 and parameters: {'n_estimators': 136, 'learning_rate': 0.0773005260932973, 'max_depth': 6, 'num_leaves': 9, 'min_child_samples': 70, 'subsample': 0.9431507915600056, 'colsample_bytree': 0.9419886517200389, 'reg_alpha': 0.002172773904316596, 'reg_lambda': 0.25936190656549785}. Best is trial 27 with value: 1.334876575935791.\n",
      "[I 2025-01-27 19:00:53,802] Trial 38 finished with value: 1.3837241020316322 and parameters: {'n_estimators': 283, 'learning_rate': 0.12197928806757248, 'max_depth': 8, 'num_leaves': 30, 'min_child_samples': 18, 'subsample': 0.9963143410921161, 'colsample_bytree': 0.8771486619127502, 'reg_alpha': 0.11219269508868067, 'reg_lambda': 0.0758505879594416}. Best is trial 27 with value: 1.334876575935791.\n",
      "[I 2025-01-27 19:01:02,030] Trial 39 finished with value: 1.4662699563358794 and parameters: {'n_estimators': 207, 'learning_rate': 0.09313530592047194, 'max_depth': 6, 'num_leaves': 37, 'min_child_samples': 48, 'subsample': 0.5805742321023242, 'colsample_bytree': 0.5203423976298633, 'reg_alpha': 0.01683438584220932, 'reg_lambda': 0.24467966108908606}. Best is trial 27 with value: 1.334876575935791.\n",
      "[I 2025-01-27 19:01:11,254] Trial 40 finished with value: 1.3911066324370716 and parameters: {'n_estimators': 250, 'learning_rate': 0.061842444587995746, 'max_depth': 6, 'num_leaves': 46, 'min_child_samples': 59, 'subsample': 0.9138292147890235, 'colsample_bytree': 0.808954883002742, 'reg_alpha': 0.03126052360412874, 'reg_lambda': 2.9175198036001913}. Best is trial 27 with value: 1.334876575935791.\n",
      "[I 2025-01-27 19:01:23,025] Trial 41 finished with value: 1.344385130991899 and parameters: {'n_estimators': 281, 'learning_rate': 0.0736406786147052, 'max_depth': 7, 'num_leaves': 25, 'min_child_samples': 55, 'subsample': 0.9639594407858414, 'colsample_bytree': 0.973779717493201, 'reg_alpha': 0.009745664466597637, 'reg_lambda': 0.36639083882122286}. Best is trial 27 with value: 1.334876575935791.\n",
      "[I 2025-01-27 19:01:39,194] Trial 42 finished with value: 1.3685913054824375 and parameters: {'n_estimators': 497, 'learning_rate': 0.03860197984566023, 'max_depth': 7, 'num_leaves': 15, 'min_child_samples': 64, 'subsample': 0.9676739015135095, 'colsample_bytree': 0.9752307042555717, 'reg_alpha': 0.002763205566281135, 'reg_lambda': 1.1264075999067666}. Best is trial 27 with value: 1.334876575935791.\n",
      "[I 2025-01-27 19:01:53,379] Trial 43 finished with value: 1.3426643578376767 and parameters: {'n_estimators': 260, 'learning_rate': 0.04642168827734134, 'max_depth': 8, 'num_leaves': 33, 'min_child_samples': 45, 'subsample': 0.8809194097391135, 'colsample_bytree': 0.9149547512883432, 'reg_alpha': 0.00798392620711304, 'reg_lambda': 1.8352450601347947}. Best is trial 27 with value: 1.334876575935791.\n",
      "[I 2025-01-27 19:02:05,479] Trial 44 finished with value: 1.3532915225859177 and parameters: {'n_estimators': 241, 'learning_rate': 0.15383257353244875, 'max_depth': 8, 'num_leaves': 33, 'min_child_samples': 44, 'subsample': 0.8765467127343458, 'colsample_bytree': 0.9196810546947223, 'reg_alpha': 0.04944879706618483, 'reg_lambda': 1.8621587501723085}. Best is trial 27 with value: 1.334876575935791.\n",
      "[I 2025-01-27 19:02:21,988] Trial 45 finished with value: 1.3592237764059414 and parameters: {'n_estimators': 301, 'learning_rate': 0.035129423975648014, 'max_depth': 8, 'num_leaves': 43, 'min_child_samples': 49, 'subsample': 0.92359679439069, 'colsample_bytree': 0.8698160118333345, 'reg_alpha': 0.10568226108574191, 'reg_lambda': 6.087911365683678}. Best is trial 27 with value: 1.334876575935791.\n",
      "[I 2025-01-27 19:02:41,934] Trial 46 finished with value: 1.3650667511863845 and parameters: {'n_estimators': 264, 'learning_rate': 0.12267825634114998, 'max_depth': 8, 'num_leaves': 57, 'min_child_samples': 13, 'subsample': 0.8180319115758258, 'colsample_bytree': 0.8252642490592255, 'reg_alpha': 0.017449437405842094, 'reg_lambda': 33.627532176090405}. Best is trial 27 with value: 1.334876575935791.\n",
      "[I 2025-01-27 19:02:51,735] Trial 47 finished with value: 1.3556533530953956 and parameters: {'n_estimators': 217, 'learning_rate': 0.06308069919509308, 'max_depth': 6, 'num_leaves': 34, 'min_child_samples': 41, 'subsample': 0.8698389910359562, 'colsample_bytree': 0.9411302255219602, 'reg_alpha': 0.06921131411286152, 'reg_lambda': 0.7552151951860555}. Best is trial 27 with value: 1.334876575935791.\n",
      "[I 2025-01-27 19:02:58,884] Trial 48 finished with value: 1.3685750558190244 and parameters: {'n_estimators': 186, 'learning_rate': 0.08410224565179705, 'max_depth': 5, 'num_leaves': 27, 'min_child_samples': 28, 'subsample': 0.7773913881576203, 'colsample_bytree': 0.7585407924711114, 'reg_alpha': 0.039496094433917196, 'reg_lambda': 0.14707226794585146}. Best is trial 27 with value: 1.334876575935791.\n",
      "[I 2025-01-27 19:03:04,646] Trial 49 finished with value: 1.4951494889275216 and parameters: {'n_estimators': 94, 'learning_rate': 0.10037170918096566, 'max_depth': 8, 'num_leaves': 50, 'min_child_samples': 71, 'subsample': 0.9034424902640377, 'colsample_bytree': 0.7100474208355267, 'reg_alpha': 0.01653175275501981, 'reg_lambda': 1.2608869543906975}. Best is trial 27 with value: 1.334876575935791.\n",
      "[I 2025-01-27 19:03:15,146] Trial 50 finished with value: 8.593806835594869 and parameters: {'n_estimators': 143, 'learning_rate': 0.010799985327741547, 'max_depth': 7, 'num_leaves': 38, 'min_child_samples': 20, 'subsample': 0.9242502700020647, 'colsample_bytree': 0.9077520326479822, 'reg_alpha': 0.0033025521471620974, 'reg_lambda': 0.004043582448655971}. Best is trial 27 with value: 1.334876575935791.\n",
      "[I 2025-01-27 19:03:26,584] Trial 51 finished with value: 1.3472483637417536 and parameters: {'n_estimators': 264, 'learning_rate': 0.04551494438420824, 'max_depth': 7, 'num_leaves': 23, 'min_child_samples': 52, 'subsample': 0.96980442522161, 'colsample_bytree': 0.9588855089435623, 'reg_alpha': 0.0066174931412867595, 'reg_lambda': 0.29402961548305834}. Best is trial 27 with value: 1.334876575935791.\n",
      "[I 2025-01-27 19:03:34,302] Trial 52 finished with value: 2.267506560527509 and parameters: {'n_estimators': 228, 'learning_rate': 0.023896043866227443, 'max_depth': 6, 'num_leaves': 12, 'min_child_samples': 46, 'subsample': 0.9467377037833637, 'colsample_bytree': 0.9755531883618408, 'reg_alpha': 0.009150515797269717, 'reg_lambda': 3.5348941944806533}. Best is trial 27 with value: 1.334876575935791.\n",
      "[I 2025-01-27 19:03:45,556] Trial 53 finished with value: 1.3529204790256248 and parameters: {'n_estimators': 301, 'learning_rate': 0.05351388701405177, 'max_depth': 7, 'num_leaves': 18, 'min_child_samples': 56, 'subsample': 0.974429253457755, 'colsample_bytree': 0.8880221911314363, 'reg_alpha': 0.0014743183384150085, 'reg_lambda': 0.494775835893876}. Best is trial 27 with value: 1.334876575935791.\n",
      "[I 2025-01-27 19:04:03,261] Trial 54 finished with value: 1.3462232628605488 and parameters: {'n_estimators': 267, 'learning_rate': 0.08466559650080746, 'max_depth': 8, 'num_leaves': 30, 'min_child_samples': 62, 'subsample': 0.93248550281755, 'colsample_bytree': 0.989527994840766, 'reg_alpha': 0.007935431512377557, 'reg_lambda': 1.9986634626962585}. Best is trial 27 with value: 1.334876575935791.\n",
      "[I 2025-01-27 19:04:13,957] Trial 55 finished with value: 1.3427281154393003 and parameters: {'n_estimators': 355, 'learning_rate': 0.1267429779600276, 'max_depth': 5, 'num_leaves': 42, 'min_child_samples': 67, 'subsample': 0.8743153684251843, 'colsample_bytree': 0.8486774981191152, 'reg_alpha': 0.13897369124665357, 'reg_lambda': 0.0884761821731088}. Best is trial 27 with value: 1.334876575935791.\n",
      "[I 2025-01-27 19:04:23,622] Trial 56 finished with value: 1.3558096138462694 and parameters: {'n_estimators': 359, 'learning_rate': 0.12708555682223197, 'max_depth': 4, 'num_leaves': 41, 'min_child_samples': 68, 'subsample': 0.7486193139596911, 'colsample_bytree': 0.8459805785048939, 'reg_alpha': 0.1558249475698509, 'reg_lambda': 0.02990727314936556}. Best is trial 27 with value: 1.334876575935791.\n",
      "[I 2025-01-27 19:04:34,519] Trial 57 finished with value: 1.3449854058313397 and parameters: {'n_estimators': 335, 'learning_rate': 0.15456509071992547, 'max_depth': 5, 'num_leaves': 61, 'min_child_samples': 78, 'subsample': 0.7021452642680159, 'colsample_bytree': 0.795112115787395, 'reg_alpha': 0.07482360902581463, 'reg_lambda': 0.10732162094151565}. Best is trial 27 with value: 1.334876575935791.\n",
      "[I 2025-01-27 19:04:46,496] Trial 58 finished with value: 1.347049266450073 and parameters: {'n_estimators': 415, 'learning_rate': 0.10675774249847929, 'max_depth': 5, 'num_leaves': 96, 'min_child_samples': 75, 'subsample': 0.8714357730143233, 'colsample_bytree': 0.855781666620305, 'reg_alpha': 0.03541782879014534, 'reg_lambda': 0.185571549616623}. Best is trial 27 with value: 1.334876575935791.\n",
      "[I 2025-01-27 19:04:56,760] Trial 59 finished with value: 1.3558830414021739 and parameters: {'n_estimators': 318, 'learning_rate': 0.14755131984781192, 'max_depth': 5, 'num_leaves': 54, 'min_child_samples': 43, 'subsample': 0.8288678437138172, 'colsample_bytree': 0.766801093800012, 'reg_alpha': 0.2736350893886118, 'reg_lambda': 0.01833134535337032}. Best is trial 27 with value: 1.334876575935791.\n",
      "[I 2025-01-27 19:04:59,852] Trial 60 finished with value: 1.6337918062928383 and parameters: {'n_estimators': 50, 'learning_rate': 0.28281649809037246, 'max_depth': 5, 'num_leaves': 44, 'min_child_samples': 37, 'subsample': 0.9075898824266312, 'colsample_bytree': 0.6566150765904791, 'reg_alpha': 0.14101595777152698, 'reg_lambda': 0.07014706182406974}. Best is trial 27 with value: 1.334876575935791.\n",
      "[I 2025-01-27 19:05:11,792] Trial 61 finished with value: 1.3390981667413955 and parameters: {'n_estimators': 304, 'learning_rate': 0.0691495431666792, 'max_depth': 6, 'num_leaves': 37, 'min_child_samples': 53, 'subsample': 0.956946745156071, 'colsample_bytree': 0.9505447789206178, 'reg_alpha': 0.02019682421527705, 'reg_lambda': 0.39536956086383346}. Best is trial 27 with value: 1.334876575935791.\n",
      "[I 2025-01-27 19:05:23,692] Trial 62 finished with value: 1.3406023258719535 and parameters: {'n_estimators': 307, 'learning_rate': 0.09049042732095638, 'max_depth': 6, 'num_leaves': 36, 'min_child_samples': 51, 'subsample': 0.9408090496432074, 'colsample_bytree': 0.9076487357830186, 'reg_alpha': 0.0146778520411477, 'reg_lambda': 1.1777098677542701}. Best is trial 27 with value: 1.334876575935791.\n",
      "[I 2025-01-27 19:05:36,364] Trial 63 finished with value: 1.3406139720278705 and parameters: {'n_estimators': 348, 'learning_rate': 0.07076177457826123, 'max_depth': 6, 'num_leaves': 36, 'min_child_samples': 51, 'subsample': 0.9405644311058851, 'colsample_bytree': 0.9096868816966908, 'reg_alpha': 0.021623766112803304, 'reg_lambda': 4.608181832474974}. Best is trial 27 with value: 1.334876575935791.\n",
      "[I 2025-01-27 19:05:46,350] Trial 64 finished with value: 1.5600304151576938 and parameters: {'n_estimators': 363, 'learning_rate': 0.06707526280930498, 'max_depth': 6, 'num_leaves': 38, 'min_child_samples': 52, 'subsample': 0.9338791115210183, 'colsample_bytree': 0.913456945596022, 'reg_alpha': 55.26665746656524, 'reg_lambda': 7.7686856089557725}. Best is trial 27 with value: 1.334876575935791.\n",
      "[I 2025-01-27 19:06:02,626] Trial 65 finished with value: 1.3463436782065672 and parameters: {'n_estimators': 409, 'learning_rate': 0.07757423079316055, 'max_depth': 6, 'num_leaves': 35, 'min_child_samples': 59, 'subsample': 0.9829717343431457, 'colsample_bytree': 0.947702164993916, 'reg_alpha': 0.01319057228123842, 'reg_lambda': 3.749254119666912}. Best is trial 27 with value: 1.334876575935791.\n",
      "[I 2025-01-27 19:06:16,619] Trial 66 finished with value: 1.3450044967260695 and parameters: {'n_estimators': 377, 'learning_rate': 0.11428339708226523, 'max_depth': 6, 'num_leaves': 48, 'min_child_samples': 47, 'subsample': 0.8902199564376746, 'colsample_bytree': 0.8710021785855572, 'reg_alpha': 0.9434598253791128, 'reg_lambda': 2.1879779866645253}. Best is trial 27 with value: 1.334876575935791.\n",
      "[I 2025-01-27 19:06:23,421] Trial 67 finished with value: 2.8999729872289226 and parameters: {'n_estimators': 344, 'learning_rate': 0.02962175078281453, 'max_depth': 3, 'num_leaves': 32, 'min_child_samples': 67, 'subsample': 0.9433804421408543, 'colsample_bytree': 0.8993821111818339, 'reg_alpha': 0.004850250883423445, 'reg_lambda': 4.460017635456505}. Best is trial 27 with value: 1.334876575935791.\n",
      "[I 2025-01-27 19:06:35,245] Trial 68 finished with value: 1.4012058837722952 and parameters: {'n_estimators': 311, 'learning_rate': 0.04788418080397898, 'max_depth': 6, 'num_leaves': 41, 'min_child_samples': 61, 'subsample': 0.9948412772067826, 'colsample_bytree': 0.9238986651874622, 'reg_alpha': 0.02141228436516287, 'reg_lambda': 0.9883495824718992}. Best is trial 27 with value: 1.334876575935791.\n",
      "[I 2025-01-27 19:06:48,225] Trial 69 finished with value: 1.3467634027876298 and parameters: {'n_estimators': 396, 'learning_rate': 0.10325530128379204, 'max_depth': 6, 'num_leaves': 37, 'min_child_samples': 83, 'subsample': 0.9113573368014495, 'colsample_bytree': 0.8387775691191661, 'reg_alpha': 0.050569805262399466, 'reg_lambda': 1.3538978851862813}. Best is trial 27 with value: 1.334876575935791.\n",
      "[I 2025-01-27 19:06:56,838] Trial 70 finished with value: 1.4875664173044332 and parameters: {'n_estimators': 331, 'learning_rate': 0.06996827078429793, 'max_depth': 4, 'num_leaves': 44, 'min_child_samples': 57, 'subsample': 0.9542256764956213, 'colsample_bytree': 0.9406287529597078, 'reg_alpha': 1.5965727981006748, 'reg_lambda': 10.389530981524135}. Best is trial 27 with value: 1.334876575935791.\n",
      "[I 2025-01-27 19:07:07,741] Trial 71 finished with value: 1.3423508536565014 and parameters: {'n_estimators': 287, 'learning_rate': 0.09126881667687987, 'max_depth': 6, 'num_leaves': 26, 'min_child_samples': 51, 'subsample': 0.957987667427403, 'colsample_bytree': 0.9247787402614507, 'reg_alpha': 0.013913655773721736, 'reg_lambda': 0.6656433276112882}. Best is trial 27 with value: 1.334876575935791.\n",
      "[I 2025-01-27 19:07:19,526] Trial 72 finished with value: 1.3395338805703907 and parameters: {'n_estimators': 293, 'learning_rate': 0.09143429232485575, 'max_depth': 6, 'num_leaves': 28, 'min_child_samples': 51, 'subsample': 0.9782125293577568, 'colsample_bytree': 0.8846466508767885, 'reg_alpha': 0.01421247914742326, 'reg_lambda': 2.57900382165886}. Best is trial 27 with value: 1.334876575935791.\n",
      "[I 2025-01-27 19:07:30,779] Trial 73 finished with value: 1.342226508987803 and parameters: {'n_estimators': 292, 'learning_rate': 0.08244594873222234, 'max_depth': 6, 'num_leaves': 19, 'min_child_samples': 42, 'subsample': 0.9786070401189354, 'colsample_bytree': 0.8849482927750265, 'reg_alpha': 0.01420900724306895, 'reg_lambda': 2.56554435413909}. Best is trial 27 with value: 1.334876575935791.\n",
      "[I 2025-01-27 19:07:40,677] Trial 74 finished with value: 1.3396852754749513 and parameters: {'n_estimators': 289, 'learning_rate': 0.09128756189680085, 'max_depth': 6, 'num_leaves': 17, 'min_child_samples': 51, 'subsample': 0.9799735485603799, 'colsample_bytree': 0.8845063533104046, 'reg_alpha': 0.012836630473997732, 'reg_lambda': 2.8034242356926327}. Best is trial 27 with value: 1.334876575935791.\n",
      "[I 2025-01-27 19:07:51,339] Trial 75 finished with value: 1.3461278287567249 and parameters: {'n_estimators': 308, 'learning_rate': 0.09828838148356567, 'max_depth': 6, 'num_leaves': 19, 'min_child_samples': 42, 'subsample': 0.9804776144012908, 'colsample_bytree': 0.8852448868125558, 'reg_alpha': 0.012603125142015881, 'reg_lambda': 2.7245384714646046}. Best is trial 27 with value: 1.334876575935791.\n",
      "[I 2025-01-27 19:07:58,922] Trial 76 finished with value: 1.4497979715987561 and parameters: {'n_estimators': 328, 'learning_rate': 0.08249989232132657, 'max_depth': 6, 'num_leaves': 7, 'min_child_samples': 37, 'subsample': 0.9994297052250365, 'colsample_bytree': 0.8659176396479972, 'reg_alpha': 0.02002446536872161, 'reg_lambda': 5.580416872249709}. Best is trial 27 with value: 1.334876575935791.\n",
      "[I 2025-01-27 19:08:08,568] Trial 77 finished with value: 1.3542608818834307 and parameters: {'n_estimators': 291, 'learning_rate': 0.11137526007946584, 'max_depth': 6, 'num_leaves': 16, 'min_child_samples': 53, 'subsample': 0.9776060067072575, 'colsample_bytree': 0.8915186709445793, 'reg_alpha': 4.8870585673391815, 'reg_lambda': 21.361595500522338}. Best is trial 27 with value: 1.334876575935791.\n",
      "[I 2025-01-27 19:08:21,605] Trial 78 finished with value: 1.3431522779597742 and parameters: {'n_estimators': 305, 'learning_rate': 0.07818810657479487, 'max_depth': 6, 'num_leaves': 21, 'min_child_samples': 47, 'subsample': 0.9382182791542126, 'colsample_bytree': 0.9342141383276142, 'reg_alpha': 0.0040246301490178, 'reg_lambda': 8.089057154641495}. Best is trial 27 with value: 1.334876575935791.\n",
      "[I 2025-01-27 19:08:31,563] Trial 79 finished with value: 1.3405774985225598 and parameters: {'n_estimators': 339, 'learning_rate': 0.0917390738392273, 'max_depth': 6, 'num_leaves': 11, 'min_child_samples': 56, 'subsample': 0.9649141992207383, 'colsample_bytree': 0.8994047860131598, 'reg_alpha': 0.006111837396629492, 'reg_lambda': 1.4799417158990245}. Best is trial 27 with value: 1.334876575935791.\n",
      "[I 2025-01-27 19:08:44,002] Trial 80 finished with value: 1.3436443890089795 and parameters: {'n_estimators': 343, 'learning_rate': 0.09110482225848616, 'max_depth': 7, 'num_leaves': 13, 'min_child_samples': 55, 'subsample': 0.5436844085384949, 'colsample_bytree': 0.9035604156171796, 'reg_alpha': 0.002956346861637595, 'reg_lambda': 1.4295455732536815}. Best is trial 27 with value: 1.334876575935791.\n",
      "[I 2025-01-27 19:08:52,008] Trial 81 finished with value: 1.4642010294481054 and parameters: {'n_estimators': 321, 'learning_rate': 0.06572985458119239, 'max_depth': 6, 'num_leaves': 8, 'min_child_samples': 50, 'subsample': 0.9661935986612394, 'colsample_bytree': 0.880515640759102, 'reg_alpha': 0.006811706478233894, 'reg_lambda': 0.8432699072538611}. Best is trial 27 with value: 1.334876575935791.\n",
      "[I 2025-01-27 19:08:57,734] Trial 82 finished with value: 1.7427970487025872 and parameters: {'n_estimators': 291, 'learning_rate': 0.09718750333950324, 'max_depth': 6, 'num_leaves': 5, 'min_child_samples': 61, 'subsample': 0.9851541093411451, 'colsample_bytree': 0.8601186252285289, 'reg_alpha': 0.030610846801595957, 'reg_lambda': 2.6045442203889175}. Best is trial 27 with value: 1.334876575935791.\n",
      "[I 2025-01-27 19:09:08,078] Trial 83 finished with value: 1.3396298107137055 and parameters: {'n_estimators': 277, 'learning_rate': 0.10468054197239562, 'max_depth': 6, 'num_leaves': 23, 'min_child_samples': 55, 'subsample': 0.9604418489242378, 'colsample_bytree': 0.8995775466139756, 'reg_alpha': 0.00549754195692143, 'reg_lambda': 4.675825937938031}. Best is trial 27 with value: 1.334876575935791.\n",
      "[I 2025-01-27 19:09:17,542] Trial 84 finished with value: 1.3470143226013946 and parameters: {'n_estimators': 247, 'learning_rate': 0.1052659326257424, 'max_depth': 6, 'num_leaves': 28, 'min_child_samples': 56, 'subsample': 0.9295717587024805, 'colsample_bytree': 0.9540797719862131, 'reg_alpha': 0.0055944412618024195, 'reg_lambda': 4.0474275602139675}. Best is trial 27 with value: 1.334876575935791.\n",
      "[I 2025-01-27 19:09:25,151] Trial 85 finished with value: 1.3486555212763651 and parameters: {'n_estimators': 276, 'learning_rate': 0.11493272213853926, 'max_depth': 6, 'num_leaves': 10, 'min_child_samples': 54, 'subsample': 0.9580791726388356, 'colsample_bytree': 0.900937060612613, 'reg_alpha': 0.00194077450533453, 'reg_lambda': 1.6340182268189472}. Best is trial 27 with value: 1.334876575935791.\n",
      "[I 2025-01-27 19:09:42,056] Trial 86 finished with value: 1.3494003540374673 and parameters: {'n_estimators': 374, 'learning_rate': 0.13351468605540404, 'max_depth': 7, 'num_leaves': 24, 'min_child_samples': 51, 'subsample': 0.9187615577130603, 'colsample_bytree': 0.9886646102389376, 'reg_alpha': 0.011156554992262936, 'reg_lambda': 6.676585337492903}. Best is trial 27 with value: 1.334876575935791.\n",
      "[I 2025-01-27 19:09:55,503] Trial 87 finished with value: 1.3672160205119377 and parameters: {'n_estimators': 338, 'learning_rate': 0.05969285217641764, 'max_depth': 6, 'num_leaves': 16, 'min_child_samples': 59, 'subsample': 0.9441202658173228, 'colsample_bytree': 0.8322497774826951, 'reg_alpha': 0.0036639089693637538, 'reg_lambda': 3.3568763762268135}. Best is trial 27 with value: 1.334876575935791.\n",
      "[I 2025-01-27 19:10:06,894] Trial 88 finished with value: 1.3677599173338895 and parameters: {'n_estimators': 259, 'learning_rate': 0.06969999550078006, 'max_depth': 7, 'num_leaves': 30, 'min_child_samples': 64, 'subsample': 0.9896658057349477, 'colsample_bytree': 0.9287734416834343, 'reg_alpha': 0.00991565513486912, 'reg_lambda': 4.747022849328111}. Best is trial 27 with value: 1.334876575935791.\n",
      "[I 2025-01-27 19:10:19,220] Trial 89 finished with value: 1.389022207479591 and parameters: {'n_estimators': 311, 'learning_rate': 0.0895944385826806, 'max_depth': 6, 'num_leaves': 36, 'min_child_samples': 46, 'subsample': 0.9610416123551719, 'colsample_bytree': 0.5881192320681008, 'reg_alpha': 0.002433784987637465, 'reg_lambda': 1.0349002888360126}. Best is trial 27 with value: 1.334876575935791.\n",
      "[I 2025-01-27 19:10:29,542] Trial 90 finished with value: 1.3576931425426517 and parameters: {'n_estimators': 273, 'learning_rate': 0.23556596831519783, 'max_depth': 6, 'num_leaves': 31, 'min_child_samples': 49, 'subsample': 0.9997174173979012, 'colsample_bytree': 0.9105868767631492, 'reg_alpha': 0.0010281555625443512, 'reg_lambda': 10.898707378452979}. Best is trial 27 with value: 1.334876575935791.\n",
      "[I 2025-01-27 19:10:40,422] Trial 91 finished with value: 1.346042745554753 and parameters: {'n_estimators': 300, 'learning_rate': 0.0796836315911414, 'max_depth': 6, 'num_leaves': 23, 'min_child_samples': 57, 'subsample': 0.9692603618782635, 'colsample_bytree': 0.8710870229006434, 'reg_alpha': 0.016661892149741588, 'reg_lambda': 2.253349651254011}. Best is trial 27 with value: 1.334876575935791.\n",
      "[I 2025-01-27 19:10:52,456] Trial 92 finished with value: 1.3451425705396558 and parameters: {'n_estimators': 281, 'learning_rate': 0.10229954452951066, 'max_depth': 6, 'num_leaves': 19, 'min_child_samples': 41, 'subsample': 0.9755051423189315, 'colsample_bytree': 0.893601202645667, 'reg_alpha': 0.023670023962541375, 'reg_lambda': 2.9660601142868184}. Best is trial 27 with value: 1.334876575935791.\n",
      "[I 2025-01-27 19:11:04,506] Trial 93 finished with value: 1.3397694024954627 and parameters: {'n_estimators': 324, 'learning_rate': 0.07223153761043932, 'max_depth': 6, 'num_leaves': 21, 'min_child_samples': 53, 'subsample': 0.9456964709461595, 'colsample_bytree': 0.8191744303357938, 'reg_alpha': 0.006935000874052955, 'reg_lambda': 0.3968348934872339}. Best is trial 27 with value: 1.334876575935791.\n",
      "[I 2025-01-27 19:11:14,712] Trial 94 finished with value: 1.342334558634194 and parameters: {'n_estimators': 322, 'learning_rate': 0.07347866133453346, 'max_depth': 6, 'num_leaves': 14, 'min_child_samples': 53, 'subsample': 0.949476381274764, 'colsample_bytree': 0.9362068705643647, 'reg_alpha': 0.006444738023127806, 'reg_lambda': 0.38867513487117084}. Best is trial 27 with value: 1.334876575935791.\n",
      "[I 2025-01-27 19:11:27,010] Trial 95 finished with value: 1.3453070631278243 and parameters: {'n_estimators': 347, 'learning_rate': 0.09477960364618244, 'max_depth': 6, 'num_leaves': 28, 'min_child_samples': 60, 'subsample': 0.923760749449042, 'colsample_bytree': 0.8227700993944655, 'reg_alpha': 0.041867366416391924, 'reg_lambda': 0.5668124312185822}. Best is trial 27 with value: 1.334876575935791.\n",
      "[I 2025-01-27 19:11:38,956] Trial 96 finished with value: 1.341377671259416 and parameters: {'n_estimators': 367, 'learning_rate': 0.12128177776698194, 'max_depth': 5, 'num_leaves': 21, 'min_child_samples': 55, 'subsample': 0.9365541286684367, 'colsample_bytree': 0.919213550158566, 'reg_alpha': 0.007819038489949675, 'reg_lambda': 0.21979876032277867}. Best is trial 27 with value: 1.334876575935791.\n",
      "[I 2025-01-27 19:11:49,157] Trial 97 finished with value: 1.3566438306792432 and parameters: {'n_estimators': 330, 'learning_rate': 0.08667219420841785, 'max_depth': 7, 'num_leaves': 11, 'min_child_samples': 51, 'subsample': 0.9023791633177871, 'colsample_bytree': 0.7965924799310033, 'reg_alpha': 0.005140895543540447, 'reg_lambda': 1.6324043307462737}. Best is trial 27 with value: 1.334876575935791.\n",
      "[I 2025-01-27 19:12:01,624] Trial 98 finished with value: 1.344626785019405 and parameters: {'n_estimators': 314, 'learning_rate': 0.053855878702205595, 'max_depth': 6, 'num_leaves': 26, 'min_child_samples': 48, 'subsample': 0.9508051679836733, 'colsample_bytree': 0.8116921707658596, 'reg_alpha': 0.010998841445285104, 'reg_lambda': 1.1877059361104512}. Best is trial 27 with value: 1.334876575935791.\n",
      "[I 2025-01-27 19:12:11,196] Trial 99 finished with value: 1.3446425659019876 and parameters: {'n_estimators': 254, 'learning_rate': 0.11113114746730086, 'max_depth': 6, 'num_leaves': 17, 'min_child_samples': 44, 'subsample': 0.9881704938779754, 'colsample_bytree': 0.8601927119635757, 'reg_alpha': 0.017551792217230647, 'reg_lambda': 20.672213466355885}. Best is trial 27 with value: 1.334876575935791.\n"
     ]
    }
   ],
   "source": [
    "study = optuna.create_study(direction='minimize')\n",
    "study.optimize(objective, n_trials=100)"
   ]
  },
  {
   "cell_type": "code",
   "execution_count": 24,
   "metadata": {},
   "outputs": [
    {
     "data": {
      "text/plain": [
       "{'n_estimators': 287,\n",
       " 'learning_rate': 0.1227047898956043,\n",
       " 'max_depth': 6,\n",
       " 'num_leaves': 48,\n",
       " 'min_child_samples': 52,\n",
       " 'subsample': 0.977801968846171,\n",
       " 'colsample_bytree': 0.8679243554521052,\n",
       " 'reg_alpha': 0.12243143591814588,\n",
       " 'reg_lambda': 2.5660014471233006}"
      ]
     },
     "execution_count": 24,
     "metadata": {},
     "output_type": "execute_result"
    }
   ],
   "source": [
    "study.best_params"
   ]
  },
  {
   "cell_type": "code",
   "execution_count": 19,
   "metadata": {},
   "outputs": [],
   "source": [
    "best_model = LGBMRegressor(**study.best_params)\n",
    "\n",
    "test_preds = np.zeros(len(test))\n",
    "\n",
    "\n",
    "best_model.fit(train.drop(columns=['y']), train.y)\n",
    "test_preds = pd.Series(best_model.predict(test.drop(columns=['y'])))"
   ]
  },
  {
   "cell_type": "code",
   "execution_count": 21,
   "metadata": {},
   "outputs": [],
   "source": [
    "\n",
    "knn = KNeighborsRegressor(n_neighbors=5)\n",
    "knn.fit(train.drop(columns=['y']), train.y)\n",
    "test_preds = pd.Series(knn.predict(test.drop(columns=['y'])))"
   ]
  },
  {
   "cell_type": "code",
   "execution_count": 22,
   "metadata": {},
   "outputs": [
    {
     "data": {
      "text/plain": [
       "0      130.470\n",
       "1       80.576\n",
       "2       64.740\n",
       "3       34.568\n",
       "4       47.776\n",
       "        ...   \n",
       "841    151.412\n",
       "842     38.814\n",
       "843     38.798\n",
       "844     58.816\n",
       "845     22.822\n",
       "Length: 846, dtype: float64"
      ]
     },
     "execution_count": 22,
     "metadata": {},
     "output_type": "execute_result"
    }
   ],
   "source": [
    "test_preds"
   ]
  },
  {
   "cell_type": "code",
   "execution_count": 17,
   "metadata": {},
   "outputs": [],
   "source": [
    "submission = pd.read_csv('./data/sample_submission.csv')\n",
    "submission['가격(백만원)'] = test_preds\n",
    "submission.to_csv('submission.csv', index=False)"
   ]
  },
  {
   "cell_type": "code",
   "execution_count": 50,
   "metadata": {},
   "outputs": [],
   "source": [
    "submission = pd.read_csv('./data/sample_submission.csv')\n",
    "submission['가격(백만원)'] = predictions\n",
    "submission.to_csv('submission.csv', index=False)"
   ]
  },
  {
   "cell_type": "code",
   "execution_count": null,
   "metadata": {},
   "outputs": [],
   "source": []
  }
 ],
 "metadata": {
  "kernelspec": {
   "display_name": ".venv",
   "language": "python",
   "name": "python3"
  },
  "language_info": {
   "codemirror_mode": {
    "name": "ipython",
    "version": 3
   },
   "file_extension": ".py",
   "mimetype": "text/x-python",
   "name": "python",
   "nbconvert_exporter": "python",
   "pygments_lexer": "ipython3",
   "version": "3.10.3"
  }
 },
 "nbformat": 4,
 "nbformat_minor": 2
}
