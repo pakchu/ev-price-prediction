{
 "cells": [
  {
   "cell_type": "code",
   "execution_count": 1,
   "metadata": {},
   "outputs": [],
   "source": [
    "import pandas as pd\n",
    "import numpy as np\n",
    "import seaborn as sns\n",
    "import matplotlib.pyplot as plt\n",
    "import warnings\n",
    "\n",
    "from sklearn.model_selection import train_test_split\n",
    "from sklearn.preprocessing import StandardScaler\n",
    "from sklearn.metrics import root_mean_squared_error\n",
    "from sklearn.ensemble import RandomForestRegressor\n",
    "from sklearn.neighbors import KNeighborsRegressor\n",
    "from sklearn.svm import SVR\n",
    "from sklearn.linear_model import Ridge\n",
    "from catboost import CatBoostRegressor\n",
    "from xgboost import XGBRegressor\n",
    "from lightgbm import LGBMRegressor\n",
    "import optuna\n",
    "import lightgbm as lgb\n",
    "import xgboost as xgb\n",
    "import catboost as cb\n",
    "from optuna.trial import Trial\n",
    "from sklearn.model_selection import KFold\n",
    "import time, pickle, os\n",
    "\n",
    "\n",
    "warnings.filterwarnings('ignore')\n",
    "pd.set_option('display.max_columns', None)\n",
    "plt.rcParams['axes.unicode_minus'] = False\n",
    "plt.rcParams['figure.figsize'] = (21, 9)\n",
    "plt.rcParams['figure.dpi'] = 300\n",
    "plt.style.use('dark_background')"
   ]
  },
  {
   "cell_type": "code",
   "execution_count": 2,
   "metadata": {},
   "outputs": [],
   "source": [
    "COLUMNS=[\n",
    "    'manufacturer',\n",
    "    'model',\n",
    "    'vehicle_condition',\n",
    "    'battery_capacity',\n",
    "    'drivetrain',\n",
    "    'mileage',\n",
    "    'warranty_period',\n",
    "    'accident_history',\n",
    "    'year_of_manufacture',\n",
    "]\n",
    "SEED = 42"
   ]
  },
  {
   "cell_type": "code",
   "execution_count": 3,
   "metadata": {},
   "outputs": [],
   "source": [
    "train = pd.read_csv('./data/train.csv')\n",
    "train = train.drop(columns=['ID'])\n",
    "train.columns = COLUMNS + ['y']\n",
    "train.manufacturer = train.manufacturer.str.replace('사', '_corp')\n",
    "\n",
    "test = pd.read_csv('./data/test.csv')\n",
    "test = test.drop(columns=['ID'])\n",
    "test.columns = COLUMNS\n",
    "test_X = test\n",
    "test_X.manufacturer = test_X.manufacturer.str.replace('사', '_corp')"
   ]
  },
  {
   "cell_type": "code",
   "execution_count": null,
   "metadata": {},
   "outputs": [
    {
     "data": {
      "text/html": [],
      "text/plain": [
       "<IPython.core.display.HTML object>"
      ]
     },
     "metadata": {},
     "output_type": "display_data"
    }
   ],
   "source": [
    "import autogluon\n",
    "from autogluon.tabular import TabularPredictor\n",
    "tune_kwargs = {\n",
    "    'searcher': 'random',\n",
    "    'num_trials': 7,\n",
    "    'scheduler' : 'local'\n",
    "}\n",
    "predictor = TabularPredictor(label='y', eval_metric='rmse').fit(train_data=train,\n",
    "    presets=[\"best_quality\"],\n",
    "    hyperparameter_tune_kwargs=tune_kwargs,\n",
    "    num_bag_folds=20,\n",
    "    refit_full=True,\n",
    "    time_limit=43200)"
   ]
  },
  {
   "cell_type": "code",
   "execution_count": null,
   "metadata": {},
   "outputs": [],
   "source": []
  }
 ],
 "metadata": {
  "kernelspec": {
   "display_name": ".venv",
   "language": "python",
   "name": "python3"
  },
  "language_info": {
   "codemirror_mode": {
    "name": "ipython",
    "version": 3
   },
   "file_extension": ".py",
   "mimetype": "text/x-python",
   "name": "python",
   "nbconvert_exporter": "python",
   "pygments_lexer": "ipython3",
   "version": "3.10.3"
  }
 },
 "nbformat": 4,
 "nbformat_minor": 2
}
